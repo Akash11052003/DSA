{
 "cells": [
  {
   "cell_type": "code",
   "execution_count": 19,
   "id": "98828934-757c-4a10-a2b7-6c61ea665665",
   "metadata": {},
   "outputs": [
    {
     "name": "stdout",
     "output_type": "stream",
     "text": [
      "4\n",
      "7\n",
      "5\n",
      "9\n"
     ]
    }
   ],
   "source": [
    "a=[1,2,5,3,4,4,6,7,7,9,5,9]\n",
    "res=[]\n",
    "for i in a:\n",
    "    if i not in res:\n",
    "        res.append(i)\n",
    "\n",
    "    else:\n",
    "        print(i)\n"
   ]
  },
  {
   "cell_type": "code",
   "execution_count": null,
   "id": "a554044c-9c11-452c-91dd-1b5115e0fb42",
   "metadata": {},
   "outputs": [],
   "source": []
  },
  {
   "cell_type": "code",
   "execution_count": 13,
   "id": "9a17da26-8e55-48d5-8fd4-d622fc59eee3",
   "metadata": {},
   "outputs": [
    {
     "name": "stdout",
     "output_type": "stream",
     "text": [
      "Tiger\n",
      "Lion\n",
      "70\n"
     ]
    }
   ],
   "source": [
    "class Animal:\n",
    "    Name='Lion'\n",
    "    Size='7'\n",
    "    Color='Yellow'\n",
    "    Speed=70\n",
    "\n",
    "ob=Animal()\n",
    "ob2=Animal()\n",
    "ob2.Name='Tiger'\n",
    "print(ob2.Name)\n",
    "print(Animal.Name)\n",
    "print(ob.Speed)"
   ]
  },
  {
   "cell_type": "code",
   "execution_count": 17,
   "id": "54720852-189b-4cef-b12e-1cd9db2469e9",
   "metadata": {},
   "outputs": [
    {
     "name": "stdout",
     "output_type": "stream",
     "text": [
      "Akash 65 8959 6289055427\n",
      "Sayak 28 4758 6243679823\n"
     ]
    }
   ],
   "source": [
    "class student:\n",
    "    Collage_Name:'Bengal School of Technology and management'\n",
    "    Branch_Name:'MAKAUT'\n",
    "    Address:'Sughandha'\n",
    "    Code:69\n",
    "\n",
    "    def __init__(self,Name,Roll,ID,Phone):\n",
    "        self.Name=Name\n",
    "        self.Roll=Roll\n",
    "        self.ID=ID\n",
    "        self.Phone=Phone\n",
    "\n",
    "    def disp(self):\n",
    "        print(self.Name,self.Roll,self.ID,self.Phone)\n",
    "S1=student('Akash',65,8959,6289055427)\n",
    "S2=student('Sayak',28,4758,6243679823)\n",
    "S1.disp()\n",
    "S2.disp()\n",
    "\n",
    "    "
   ]
  },
  {
   "cell_type": "code",
   "execution_count": 55,
   "id": "b716b14e-72f6-47b3-8f38-49f9f7980a75",
   "metadata": {},
   "outputs": [
    {
     "name": "stdout",
     "output_type": "stream",
     "text": [
      "Akash 6289055427 578 40000\n",
      "Akash 6289055427 578 60000\n"
     ]
    }
   ],
   "source": [
    "class Company:\n",
    "    C_Name='Google'\n",
    "    C_id=69\n",
    "    CEO='S.Pichay'\n",
    "    Loc='USA'\n",
    "    def __init__(self,Name,Phone,ID,Salary):\n",
    "        self.Name=Name\n",
    "        self.Phone=Phone\n",
    "        self.ID=ID\n",
    "        self.Salary=Salary\n",
    "\n",
    "    def disp(self):\n",
    "        print(self.Name,self.Phone,self.ID,self.Salary)\n",
    "\n",
    "    def Ch_Salary(self,new):\n",
    "        self.Salary=new\n",
    "\n",
    "    def disp1(self):\n",
    "        print(self.Name,self.Phone,self.ID,self.Salary)\n",
    "\n",
    "Akash=Company('Akash',6289055427,578,40000)\n",
    "Akash.disp()\n",
    "\n",
    "Akash.Ch_Salary(60000)\n",
    "Akash.disp1()\n",
    "#Akash.disp1()\n"
   ]
  },
  {
   "cell_type": "code",
   "execution_count": 35,
   "id": "468cb995-45ca-4c69-9d8c-366621b12acb",
   "metadata": {},
   "outputs": [
    {
     "name": "stdout",
     "output_type": "stream",
     "text": [
      "Akash 56786 98\n",
      "10\n"
     ]
    },
    {
     "ename": "AttributeError",
     "evalue": "'student' object has no attribute '__student__phone'",
     "output_type": "error",
     "traceback": [
      "\u001b[1;31m---------------------------------------------------------------------------\u001b[0m",
      "\u001b[1;31mAttributeError\u001b[0m                            Traceback (most recent call last)",
      "Cell \u001b[1;32mIn[35], line 14\u001b[0m\n\u001b[0;32m     12\u001b[0m op\u001b[38;5;241m.\u001b[39mdisp()\n\u001b[0;32m     13\u001b[0m \u001b[38;5;28mprint\u001b[39m(op\u001b[38;5;241m.\u001b[39m_a)\n\u001b[1;32m---> 14\u001b[0m \u001b[38;5;28mprint\u001b[39m(op\u001b[38;5;241m.\u001b[39m__student__phone)\n",
      "\u001b[1;31mAttributeError\u001b[0m: 'student' object has no attribute '__student__phone'"
     ]
    }
   ],
   "source": [
    "class student:\n",
    "    _a=10\n",
    "    b=20\n",
    "    def __init__(self,name,__phone,id):\n",
    "        self.name=name\n",
    "        self.__phone=__phone\n",
    "        self.id=id\n",
    "    def disp(self):\n",
    "        print(self.name,self.__phone,self.id)\n",
    "\n",
    "op=student('Akash',56786,98)\n",
    "op.disp()\n",
    "print(op._a)\n",
    "print(op.__student__phone)"
   ]
  },
  {
   "cell_type": "code",
   "execution_count": 43,
   "id": "ebe1c70e-72d2-4f9c-9968-f85c01601030",
   "metadata": {},
   "outputs": [
    {
     "name": "stdin",
     "output_type": "stream",
     "text": [
      "Enter 45\n"
     ]
    },
    {
     "name": "stdout",
     "output_type": "stream",
     "text": [
      "Not\n"
     ]
    }
   ],
   "source": [
    "#lower=100\n",
    "#upper=2000\n",
    "n=int(input('Enter'))\n",
    "for num in range(n,2000):\n",
    "    order=len(str(n))\n",
    "    sum=0\n",
    "    temp=n\n",
    "    while temp>0:\n",
    "        digit=temp%10\n",
    "        sum+=digit**order\n",
    "        temp//=10\n",
    "\n",
    "    if n==sum:\n",
    "        print('Arm')\n",
    "        break\n",
    "    else:\n",
    "        print('Not')\n",
    "        break"
   ]
  },
  {
   "cell_type": "code",
   "execution_count": 13,
   "id": "83f2f305-b7aa-4240-8d8b-06dbb03278a6",
   "metadata": {},
   "outputs": [
    {
     "name": "stdin",
     "output_type": "stream",
     "text": [
      "Enter the number 100\n"
     ]
    },
    {
     "name": "stdout",
     "output_type": "stream",
     "text": [
      "4\n"
     ]
    }
   ],
   "source": [
    "n=int(input('Enter the number'))\n",
    "bin=0\n",
    "i=0\n",
    "while n>0:\n",
    "    dec=n%10\n",
    "    bin=bin+dec * pow(2,i)\n",
    "    n//=10\n",
    "    i+=1\n",
    "print(bin)\n",
    "\n"
   ]
  },
  {
   "cell_type": "code",
   "execution_count": 33,
   "id": "7586dcb3-a86f-457a-a2a9-06afcb7b3242",
   "metadata": {},
   "outputs": [
    {
     "name": "stdout",
     "output_type": "stream",
     "text": [
      "2\n"
     ]
    }
   ],
   "source": [
    "def binaryToDecimal(binary):\n",
    " \n",
    "    decimal, i = 0, 0\n",
    "    while(binary != 0):\n",
    "        dec = binary % 10\n",
    "        decimal = decimal + dec * pow(2, i)\n",
    "        binary = binary//10\n",
    "        i += 1\n",
    "    print(decimal)\n",
    "binaryToDecimal(10)"
   ]
  },
  {
   "cell_type": "code",
   "execution_count": null,
   "id": "bde39e2a-9414-4c47-8e48-b6bf6f4a94df",
   "metadata": {},
   "outputs": [],
   "source": []
  },
  {
   "cell_type": "code",
   "execution_count": 35,
   "id": "6b416f4d-2d02-427c-905a-973fbc9db85a",
   "metadata": {},
   "outputs": [
    {
     "name": "stdout",
     "output_type": "stream",
     "text": [
      "1 0 0 0 1 0 "
     ]
    }
   ],
   "source": [
    "def dec(num):\n",
    "    if num>1:\n",
    "        dec(num//2)\n",
    "    print(num%2 , end=' ')\n",
    "\n",
    "dec(34)"
   ]
  },
  {
   "cell_type": "code",
   "execution_count": 17,
   "id": "9771d356-b2c6-4d20-898e-62e434c7e8e1",
   "metadata": {},
   "outputs": [
    {
     "name": "stdout",
     "output_type": "stream",
     "text": [
      "100010\n"
     ]
    }
   ],
   "source": [
    "def convertToBinary(n):\n",
    "   if n > 1:\n",
    "       convertToBinary(n//2)\n",
    "   print(n % 2,end = '')\n",
    "\n",
    "# decimal number\n",
    "dec = 34\n",
    "\n",
    "convertToBinary(dec)\n",
    "print()"
   ]
  },
  {
   "cell_type": "code",
   "execution_count": 5,
   "id": "0a30658d-9c58-4a58-8528-1565bce5fe34",
   "metadata": {},
   "outputs": [
    {
     "name": "stdout",
     "output_type": "stream",
     "text": [
      "{'hello': 'eo', 'hi': 'i', 'bye': 'e'}\n"
     ]
    }
   ],
   "source": [
    "words={'hi', 'hello', 'bye'}\n",
    "output={word:''.join([char for char in word if char in 'aeiou'])for word in words}\n",
    "print(output)"
   ]
  },
  {
   "cell_type": "code",
   "execution_count": 1,
   "id": "d305c5f1-37ef-4831-ab8d-6b570c7357d0",
   "metadata": {},
   "outputs": [
    {
     "name": "stdout",
     "output_type": "stream",
     "text": [
      "[1, 3, 'hellow', 75]\n"
     ]
    }
   ],
   "source": [
    "def check_def(lst, default_value={0,None,''}):\n",
    "    return [value for value in lst if value not in default_value]\n",
    "\n",
    "sample_list=[1,0,0,3,None,'','hellow',None, 75]\n",
    "result=check_def(sample_list)\n",
    "print(result)"
   ]
  },
  {
   "cell_type": "code",
   "execution_count": 5,
   "id": "50dbf581-1d64-4c93-a36e-ddb55b613923",
   "metadata": {},
   "outputs": [
    {
     "name": "stdout",
     "output_type": "stream",
     "text": [
      "{'hello': 'eo', 'bye': 'e', 'hi': 'i'}\n"
     ]
    }
   ],
   "source": [
    "words={'hi', 'hello','bye'}\n",
    "output={word:''.join([char for char in word if char in 'aeiou']) for word in words}\n",
    "print(output)"
   ]
  },
  {
   "cell_type": "code",
   "execution_count": 13,
   "id": "47742800-5bc2-415d-bec9-d4e043a5b0fd",
   "metadata": {},
   "outputs": [
    {
     "name": "stdout",
     "output_type": "stream",
     "text": [
      "14\n"
     ]
    }
   ],
   "source": [
    "def profit(price):\n",
    "    min_p=price[0]\n",
    "    n=len(price)\n",
    "    res=0\n",
    "    for i in range(1,n):\n",
    "        min_p=min(min_p , price[i])\n",
    "        res=max(res,price[i]-min_p)\n",
    "\n",
    "    return res\n",
    "\n",
    "p=[4,3,6,1,2,15,5]\n",
    "result=profit(p)\n",
    "print(result)"
   ]
  },
  {
   "cell_type": "code",
   "execution_count": 39,
   "id": "bd49a43c-b1d8-4091-b980-2bd7637f14f7",
   "metadata": {},
   "outputs": [
    {
     "name": "stdout",
     "output_type": "stream",
     "text": [
      "True\n"
     ]
    }
   ],
   "source": [
    "def sum_two(arr,target):\n",
    "    arr.sort()\n",
    "    left=0\n",
    "    right=len(arr)-1\n",
    "    while left < right:\n",
    "        sum=arr[left]+arr[right]\n",
    "        if sum==target:\n",
    "            return True\n",
    "        elif sum<target:\n",
    "            left+=1\n",
    "\n",
    "        else:\n",
    "            right-=1\n",
    "\n",
    "arr=[1,5,2,3]\n",
    "target=7\n",
    "result=sum_two(arr,target)\n",
    "print(result)"
   ]
  },
  {
   "cell_type": "code",
   "execution_count": 79,
   "id": "b39360eb-a1b2-4bcf-aae9-5cb96c69faf2",
   "metadata": {},
   "outputs": [
    {
     "name": "stdout",
     "output_type": "stream",
     "text": [
      "True\n"
     ]
    }
   ],
   "source": [
    "def sum_two(arr,target):\n",
    "    arr.sort()\n",
    "    left=0\n",
    "    right=len(arr)-1\n",
    "    for i in arr:\n",
    "        sum=arr[left]+arr[right]\n",
    "        if sum==target:\n",
    "            return True\n",
    "        elif sum<target:\n",
    "            left+=1\n",
    "\n",
    "        else:\n",
    "            right-=1\n",
    "\n",
    "arr=[1,2,7,5]\n",
    "target=12\n",
    "result=sum_two(arr,target)\n",
    "print(result)"
   ]
  },
  {
   "cell_type": "code",
   "execution_count": 83,
   "id": "42782731-bc0a-4316-aee5-1eeae2703643",
   "metadata": {},
   "outputs": [
    {
     "name": "stdin",
     "output_type": "stream",
     "text": [
      " 0\n"
     ]
    },
    {
     "ename": "ValueError",
     "evalue": "not enough values to unpack (expected 2, got 1)",
     "output_type": "error",
     "traceback": [
      "\u001b[1;31m---------------------------------------------------------------------------\u001b[0m",
      "\u001b[1;31mValueError\u001b[0m                                Traceback (most recent call last)",
      "Cell \u001b[1;32mIn[83], line 1\u001b[0m\n\u001b[1;32m----> 1\u001b[0m m,n\u001b[38;5;241m=\u001b[39m\u001b[38;5;28mmap\u001b[39m(\u001b[38;5;28mint\u001b[39m,\u001b[38;5;28minput\u001b[39m()\u001b[38;5;241m.\u001b[39msplit())\n\u001b[0;32m      2\u001b[0m \u001b[38;5;28mprint\u001b[39m(\u001b[38;5;28msum\u001b[39m(\u001b[38;5;28mrange\u001b[39m(m,n\u001b[38;5;241m+\u001b[39m\u001b[38;5;241m1\u001b[39m)))\n",
      "\u001b[1;31mValueError\u001b[0m: not enough values to unpack (expected 2, got 1)"
     ]
    }
   ],
   "source": [
    "m,n=map(int,input().split())\n",
    "print(sum(range(m,n+1)))"
   ]
  }
 ],
 "metadata": {
  "kernelspec": {
   "display_name": "Python [conda env:base] *",
   "language": "python",
   "name": "conda-base-py"
  },
  "language_info": {
   "codemirror_mode": {
    "name": "ipython",
    "version": 3
   },
   "file_extension": ".py",
   "mimetype": "text/x-python",
   "name": "python",
   "nbconvert_exporter": "python",
   "pygments_lexer": "ipython3",
   "version": "3.12.4"
  }
 },
 "nbformat": 4,
 "nbformat_minor": 5
}
