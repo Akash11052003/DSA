{
 "cells": [
  {
   "cell_type": "markdown",
   "id": "e5d96329-dd27-4627-a778-8b6c1095760a",
   "metadata": {},
   "source": [
    "Given an array prices[] of length N, representing the prices of the stocks on different days, the task is to find the maximum profit possible by buying and selling the stocks on different days when at most one transaction is allowed. Here one transaction means 1 buy + 1 Sell."
   ]
  },
  {
   "cell_type": "code",
   "execution_count": 13,
   "id": "7e61afb7-3ac2-4f81-b474-98ddfe4c57f6",
   "metadata": {},
   "outputs": [
    {
     "name": "stdout",
     "output_type": "stream",
     "text": [
      "8\n"
     ]
    }
   ],
   "source": [
    "def profit(price):\n",
    "    min_p=price[0]\n",
    "    n=len(price)\n",
    "    res=0\n",
    "    for i in range(1,n):\n",
    "        min_p=min(min_p,price[i])\n",
    "        res=max(res,price[i]-min_p)\n",
    "\n",
    "    return res\n",
    "arr=[6,2,4,2,1,5,2,9,6,3]\n",
    "print(profit(arr))\n",
    "        "
   ]
  }
 ],
 "metadata": {
  "kernelspec": {
   "display_name": "Python [conda env:base] *",
   "language": "python",
   "name": "conda-base-py"
  },
  "language_info": {
   "codemirror_mode": {
    "name": "ipython",
    "version": 3
   },
   "file_extension": ".py",
   "mimetype": "text/x-python",
   "name": "python",
   "nbconvert_exporter": "python",
   "pygments_lexer": "ipython3",
   "version": "3.12.4"
  }
 },
 "nbformat": 4,
 "nbformat_minor": 5
}
