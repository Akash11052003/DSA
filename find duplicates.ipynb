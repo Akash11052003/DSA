{
 "cells": [
  {
   "cell_type": "markdown",
   "id": "303961cd-6f10-4ebb-b668-811a23277835",
   "metadata": {},
   "source": [
    "Given an array arr[] of n elements that contains elements from 0 to n-1, with any of these numbers appearing any number of times. The task is to find the repeating numbers."
   ]
  },
  {
   "cell_type": "code",
   "execution_count": 7,
   "id": "28fd1d03-98fe-4e98-89fe-71847454a2ab",
   "metadata": {},
   "outputs": [
    {
     "name": "stdout",
     "output_type": "stream",
     "text": [
      "1\n",
      "3\n"
     ]
    }
   ],
   "source": [
    "def dup(arr):\n",
    "    n=len(arr)\n",
    "    freq=[0] * n\n",
    "    res=[]\n",
    "\n",
    "    for num in arr:\n",
    "        freq[num]+=1\n",
    "\n",
    "    for i in range(n):\n",
    "        if freq[i]>1:\n",
    "            res.append(i)\n",
    "\n",
    "    if not res:\n",
    "        res.append(-1)\n",
    "\n",
    "    return res\n",
    "\n",
    "arr=[1,2,3,1,3,4]\n",
    "duplicate=dup(arr)\n",
    "for ele in duplicate:\n",
    "    print(ele, end=)"
   ]
  },
  {
   "cell_type": "code",
   "execution_count": null,
   "id": "2095d016-a5ee-494a-8440-322ca5a04d4c",
   "metadata": {},
   "outputs": [],
   "source": []
  }
 ],
 "metadata": {
  "kernelspec": {
   "display_name": "Python [conda env:base] *",
   "language": "python",
   "name": "conda-base-py"
  },
  "language_info": {
   "codemirror_mode": {
    "name": "ipython",
    "version": 3
   },
   "file_extension": ".py",
   "mimetype": "text/x-python",
   "name": "python",
   "nbconvert_exporter": "python",
   "pygments_lexer": "ipython3",
   "version": "3.12.4"
  }
 },
 "nbformat": 4,
 "nbformat_minor": 5
}
