{
 "cells": [
  {
   "cell_type": "markdown",
   "id": "3e67f49a-0094-4ecf-aaf5-30a82f67704b",
   "metadata": {},
   "source": [
    "Given an array arr[], the task is to find the subarray that has the maximum sum and return its sum."
   ]
  },
  {
   "cell_type": "code",
   "execution_count": null,
   "id": "10d39d92-aaca-4400-b84f-e958db913a04",
   "metadata": {},
   "outputs": [],
   "source": [
    "def maxSubArray(arr):\n",
    "    cs=arr[0]\n",
    "    max_sum=arr[0]\n",
    "    for i in range(1,len(arr)):\n",
    "        cs+=arr[i]\n",
    "        max_sum=max(max_sum+arr[i],arr[i])\n",
    "        if cs>0:\n",
    "            cs=0\n",
    "\n",
    "    return max_sum\n",
    "\n",
    "arr=[2, 3, -8, 7, -1, 2, 3]\n",
    "result=maxSubArray(arr)\n"
   ]
  }
 ],
 "metadata": {
  "kernelspec": {
   "display_name": "Python [conda env:base] *",
   "language": "python",
   "name": "conda-base-py"
  },
  "language_info": {
   "codemirror_mode": {
    "name": "ipython",
    "version": 3
   },
   "file_extension": ".py",
   "mimetype": "text/x-python",
   "name": "python",
   "nbconvert_exporter": "python",
   "pygments_lexer": "ipython3",
   "version": "3.12.4"
  }
 },
 "nbformat": 4,
 "nbformat_minor": 5
}
