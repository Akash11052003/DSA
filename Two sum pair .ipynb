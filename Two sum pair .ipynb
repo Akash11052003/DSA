{
 "cells": [
  {
   "cell_type": "markdown",
   "id": "d86b5813-05ac-4e92-ba09-117316e3311d",
   "metadata": {},
   "source": [
    "Given an array arr[] of n integers and a target value, the task is to find whether there is a pair of elements in the array whose sum is equal to target. This problem is a variation of 2Sum problem.\n"
   ]
  },
  {
   "cell_type": "code",
   "execution_count": 12,
   "id": "7c0ae953-05c0-42f0-8014-44dd61591d91",
   "metadata": {},
   "outputs": [
    {
     "name": "stdout",
     "output_type": "stream",
     "text": [
      "None\n"
     ]
    }
   ],
   "source": [
    "def Pair(arr,target):\n",
    "    arr.sort()\n",
    "    left=0\n",
    "    right=len(arr)-1\n",
    "    while left<right:\n",
    "        sum=arr[left]+arr[right]\n",
    "        if sum==target:\n",
    "            return True\n",
    "\n",
    "        elif sum<target:\n",
    "            left+=1\n",
    "\n",
    "        else:\n",
    "            right-=1\n",
    "\n",
    "arr=[1,6,5,9,3]\n",
    "target=\n",
    "result=Pair(arr,target)\n",
    "print(result)"
   ]
  }
 ],
 "metadata": {
  "kernelspec": {
   "display_name": "Python [conda env:base] *",
   "language": "python",
   "name": "conda-base-py"
  },
  "language_info": {
   "codemirror_mode": {
    "name": "ipython",
    "version": 3
   },
   "file_extension": ".py",
   "mimetype": "text/x-python",
   "name": "python",
   "nbconvert_exporter": "python",
   "pygments_lexer": "ipython3",
   "version": "3.12.4"
  }
 },
 "nbformat": 4,
 "nbformat_minor": 5
}
